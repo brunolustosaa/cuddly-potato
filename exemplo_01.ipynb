{
  "nbformat": 4,
  "nbformat_minor": 0,
  "metadata": {
    "colab": {
      "name": "exemplo_01.ipynb",
      "provenance": [],
      "collapsed_sections": [],
      "authorship_tag": "ABX9TyM4U6iBKcRkQdPpnJoKpGA6",
      "include_colab_link": true
    },
    "kernelspec": {
      "name": "python3",
      "display_name": "Python 3"
    }
  },
  "cells": [
    {
      "cell_type": "markdown",
      "metadata": {
        "id": "view-in-github",
        "colab_type": "text"
      },
      "source": [
        "<a href=\"https://colab.research.google.com/github/brunolustosaa/cuddly-potato/blob/master/exemplo_01.ipynb\" target=\"_parent\"><img src=\"https://colab.research.google.com/assets/colab-badge.svg\" alt=\"Open In Colab\"/></a>"
      ]
    },
    {
      "cell_type": "code",
      "metadata": {
        "id": "qx1QbjKW1Xwt",
        "colab_type": "code",
        "colab": {
          "base_uri": "https://localhost:8080/",
          "height": 68
        },
        "outputId": "94546740-5ba9-4179-d195-893fa2cfa37f"
      },
      "source": [
        "### isto é um comando de saída\n",
        "print('Olá Mundo Cruel!!!')\n",
        "print('Cruel World!!!')\n",
        "print(\"'com aspas duplas'\")\n",
        "\n",
        "# a hastag é um comentário no código, ou seja, o programa não irá processar nenhuma linha que estiver marcada\n",
        "# o comando print() mostra na tela, ou seja, é uma saída de valor(es). \n",
        "# O conteúdo texto deve estar entre aspas (simples ou dupla)\n",
        "\n",
        "\n"
      ],
      "execution_count": 3,
      "outputs": [
        {
          "output_type": "stream",
          "text": [
            "Olá Mundo Cruel!!!\n",
            "Cruel World!!!\n",
            "com aspas duplas\n"
          ],
          "name": "stdout"
        }
      ]
    },
    {
      "cell_type": "markdown",
      "metadata": {
        "id": "XkOtLSnN5OHE",
        "colab_type": "text"
      },
      "source": [
        ""
      ]
    },
    {
      "cell_type": "code",
      "metadata": {
        "id": "j1n2Ibz25PlJ",
        "colab_type": "code",
        "colab": {
          "base_uri": "https://localhost:8080/",
          "height": 34
        },
        "outputId": "675e65b2-08ea-4a65-b9ae-07397ce07a2c"
      },
      "source": [
        "print('Edson','Melo', 'de', 'souza')\n",
        "\n"
      ],
      "execution_count": 4,
      "outputs": [
        {
          "output_type": "stream",
          "text": [
            "Edson Melo de souza\n"
          ],
          "name": "stdout"
        }
      ]
    }
  ]
}